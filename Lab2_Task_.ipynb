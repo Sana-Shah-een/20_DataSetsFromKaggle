{
  "nbformat": 4,
  "nbformat_minor": 0,
  "metadata": {
    "colab": {
      "provenance": [],
      "authorship_tag": "ABX9TyNRybE8hvvQLh9CeK6eyGcU",
      "include_colab_link": true
    },
    "kernelspec": {
      "name": "python3",
      "display_name": "Python 3"
    },
    "language_info": {
      "name": "python"
    }
  },
  "cells": [
    {
      "cell_type": "markdown",
      "metadata": {
        "id": "view-in-github",
        "colab_type": "text"
      },
      "source": [
        "<a href=\"https://colab.research.google.com/github/Sana-Shah-een/Artificial_Intelligence/blob/main/Lab2_Task_.ipynb\" target=\"_parent\"><img src=\"https://colab.research.google.com/assets/colab-badge.svg\" alt=\"Open In Colab\"/></a>"
      ]
    },
    {
      "cell_type": "code",
      "source": [
        "!pip install pandas"
      ],
      "metadata": {
        "colab": {
          "base_uri": "https://localhost:8080/"
        },
        "id": "AuLWKX1_0fz_",
        "outputId": "44bcc71d-472c-40f0-fc13-baeed1e15237"
      },
      "execution_count": 8,
      "outputs": [
        {
          "output_type": "stream",
          "name": "stdout",
          "text": [
            "Requirement already satisfied: pandas in /usr/local/lib/python3.10/dist-packages (2.1.4)\n",
            "Requirement already satisfied: numpy<2,>=1.22.4 in /usr/local/lib/python3.10/dist-packages (from pandas) (1.26.4)\n",
            "Requirement already satisfied: python-dateutil>=2.8.2 in /usr/local/lib/python3.10/dist-packages (from pandas) (2.8.2)\n",
            "Requirement already satisfied: pytz>=2020.1 in /usr/local/lib/python3.10/dist-packages (from pandas) (2024.2)\n",
            "Requirement already satisfied: tzdata>=2022.1 in /usr/local/lib/python3.10/dist-packages (from pandas) (2024.1)\n",
            "Requirement already satisfied: six>=1.5 in /usr/local/lib/python3.10/dist-packages (from python-dateutil>=2.8.2->pandas) (1.16.0)\n"
          ]
        }
      ]
    },
    {
      "cell_type": "code",
      "source": [
        "print(\"Lab2 Task Practice (Data Set Of Vegetables)\")\n",
        "print(\"FA22-BCS-203\")"
      ],
      "metadata": {
        "colab": {
          "base_uri": "https://localhost:8080/"
        },
        "id": "Sx0HuRKWMJkR",
        "outputId": "f34d33d9-df37-4885-f8e5-987f0183565d"
      },
      "execution_count": 59,
      "outputs": [
        {
          "output_type": "stream",
          "name": "stdout",
          "text": [
            "Lab2 Task Practice (Data Set Of Vegetables)\n",
            "FA22-BCS-203\n"
          ]
        }
      ]
    },
    {
      "cell_type": "code",
      "source": [
        "from google.colab import drive\n",
        "drive.mount('/content/drive')"
      ],
      "metadata": {
        "id": "VNqyo9_6M2U6"
      },
      "execution_count": null,
      "outputs": []
    },
    {
      "cell_type": "code",
      "execution_count": 10,
      "metadata": {
        "id": "0S7Dxs9E0WFL"
      },
      "outputs": [],
      "source": [
        "import pandas as pd\n",
        "df=pd.read_csv('/content/vegetable_prices_dataset.csv')"
      ]
    },
    {
      "cell_type": "code",
      "source": [
        "print(\"First 5 Rows of given Data:\")\n",
        "print(df.head())"
      ],
      "metadata": {
        "colab": {
          "base_uri": "https://localhost:8080/"
        },
        "id": "mX-dcKjo1eF4",
        "outputId": "a420dad6-ee71-442c-b3c0-ca3cb8189b3b"
      },
      "execution_count": 13,
      "outputs": [
        {
          "output_type": "stream",
          "name": "stdout",
          "text": [
            "First 5 Rows of given Data:\n",
            "  Vegetable  Price_per_kg  Quantity_sold\n",
            "0   Cabbage         72.20             67\n",
            "1      Peas         72.92            157\n",
            "2    Potato         85.75            227\n",
            "3   Spinach         30.14             53\n",
            "4     Onion         79.58             75\n"
          ]
        }
      ]
    },
    {
      "cell_type": "code",
      "source": [
        "print(\"Basic Information of given Data:\")\n",
        "print(df.info())"
      ],
      "metadata": {
        "colab": {
          "base_uri": "https://localhost:8080/"
        },
        "id": "CheQ1JgX2wxh",
        "outputId": "3d328ae4-bcc3-4344-8ac3-baa7f9fd225a"
      },
      "execution_count": 14,
      "outputs": [
        {
          "output_type": "stream",
          "name": "stdout",
          "text": [
            "Basic Information of given Data:\n",
            "<class 'pandas.core.frame.DataFrame'>\n",
            "RangeIndex: 100 entries, 0 to 99\n",
            "Data columns (total 3 columns):\n",
            " #   Column         Non-Null Count  Dtype  \n",
            "---  ------         --------------  -----  \n",
            " 0   Vegetable      100 non-null    object \n",
            " 1   Price_per_kg   100 non-null    float64\n",
            " 2   Quantity_sold  100 non-null    int64  \n",
            "dtypes: float64(1), int64(1), object(1)\n",
            "memory usage: 2.5+ KB\n",
            "None\n"
          ]
        }
      ]
    },
    {
      "cell_type": "code",
      "source": [
        "print(\"Summary Statistics for numerical columns:\")\n",
        "print(df.describe())"
      ],
      "metadata": {
        "colab": {
          "base_uri": "https://localhost:8080/"
        },
        "id": "_XEd0S-K4-gD",
        "outputId": "420da525-7059-4aba-ec4d-bd82934f89d8"
      },
      "execution_count": 17,
      "outputs": [
        {
          "output_type": "stream",
          "name": "stdout",
          "text": [
            "Summary Statistics for numerical columns:\n",
            "       Price_per_kg  Quantity_sold\n",
            "count    100.000000     100.000000\n",
            "mean      59.241000     170.930000\n",
            "std       23.555335      71.800967\n",
            "min       20.510000      52.000000\n",
            "25%       37.972500     121.500000\n",
            "50%       57.840000     177.000000\n",
            "75%       78.905000     229.000000\n",
            "max       99.780000     298.000000\n"
          ]
        }
      ]
    },
    {
      "cell_type": "code",
      "source": [
        "print(\"Missing values in the dataset:\")\n",
        "print(df.isnull().sum())\n",
        ""
      ],
      "metadata": {
        "colab": {
          "base_uri": "https://localhost:8080/"
        },
        "id": "CrCRfZpa46WQ",
        "outputId": "0bcbe525-3833-4c96-df21-a4078b2c1b14"
      },
      "execution_count": 20,
      "outputs": [
        {
          "output_type": "stream",
          "name": "stdout",
          "text": [
            "Missing values in the dataset:\n",
            "Vegetable        0\n",
            "Price_per_kg     0\n",
            "Quantity_sold    0\n",
            "dtype: int64\n"
          ]
        }
      ]
    },
    {
      "cell_type": "code",
      "source": [
        "print(\"Number of Unique vegetables:\")\n",
        "print(df['Vegetable'].nunique())\n",
        ""
      ],
      "metadata": {
        "colab": {
          "base_uri": "https://localhost:8080/"
        },
        "id": "mTO5xl-k6HGb",
        "outputId": "5578ab07-3029-49a1-a23b-aa6c964e9824"
      },
      "execution_count": 21,
      "outputs": [
        {
          "output_type": "stream",
          "name": "stdout",
          "text": [
            "Number of Unique vegetables:\n",
            "10\n"
          ]
        }
      ]
    },
    {
      "cell_type": "code",
      "source": [
        "print(\"Total Vegetables\")\n",
        "print(df['Vegetable'].value_counts())"
      ],
      "metadata": {
        "colab": {
          "base_uri": "https://localhost:8080/"
        },
        "id": "HBgJ2Tb-6r3f",
        "outputId": "5e579681-afe3-48d1-9792-e59478b6f72c"
      },
      "execution_count": 26,
      "outputs": [
        {
          "output_type": "stream",
          "name": "stdout",
          "text": [
            "Total Vegetables\n",
            "Vegetable\n",
            "Onion       18\n",
            "Carrot      14\n",
            "Tomato      12\n",
            "Lettuce     11\n",
            "Broccoli    11\n",
            "Peas         9\n",
            "Potato       7\n",
            "Cabbage      6\n",
            "Spinach      6\n",
            "Capsicum     6\n",
            "Name: count, dtype: int64\n"
          ]
        }
      ]
    },
    {
      "cell_type": "code",
      "source": [
        "print(\"Top 5 most expensive Vegetables\")\n",
        "print(df.sort_values(by='Price_per_kg', ascending=False).head())"
      ],
      "metadata": {
        "colab": {
          "base_uri": "https://localhost:8080/"
        },
        "id": "ezxymlHI7QdJ",
        "outputId": "209c7b56-eb03-4bd0-b1c2-1c24e8e254a5"
      },
      "execution_count": 27,
      "outputs": [
        {
          "output_type": "stream",
          "name": "stdout",
          "text": [
            "Top 5 most expensive Vegetables\n",
            "   Vegetable  Price_per_kg  Quantity_sold\n",
            "70   Cabbage         99.78            262\n",
            "57    Carrot         98.60             56\n",
            "88     Onion         98.04            241\n",
            "61    Potato         97.72            142\n",
            "14    Tomato         97.41            293\n"
          ]
        }
      ]
    },
    {
      "cell_type": "code",
      "source": [
        "print(\"Vegetables with Price Per Kg Greater than 80:\")\n",
        "print(df[df['Price_per_kg']>80])"
      ],
      "metadata": {
        "colab": {
          "base_uri": "https://localhost:8080/"
        },
        "id": "MhQVSd6X9pm1",
        "outputId": "8545805a-8493-4dd8-cf9d-69a1f1a8ae77"
      },
      "execution_count": 28,
      "outputs": [
        {
          "output_type": "stream",
          "name": "stdout",
          "text": [
            "Vegetables with Price Per Kg Greater than 80:\n",
            "   Vegetable  Price_per_kg  Quantity_sold\n",
            "2     Potato         85.75            227\n",
            "5     Carrot         90.08            159\n",
            "14    Tomato         97.41            293\n",
            "15    Carrot         95.94            128\n",
            "18  Capsicum         89.92            251\n",
            "19     Onion         87.85            276\n",
            "20    Carrot         82.59            285\n",
            "22     Onion         94.41            278\n",
            "25    Tomato         91.94            177\n",
            "28   Spinach         93.01            298\n",
            "56   Cabbage         94.94            227\n",
            "57    Carrot         98.60             56\n",
            "58   Lettuce         89.52            243\n",
            "61    Potato         97.72            142\n",
            "62      Peas         95.54            184\n",
            "66   Spinach         82.23            184\n",
            "70   Cabbage         99.78            262\n",
            "75   Lettuce         84.88             52\n",
            "87      Peas         86.52            214\n",
            "88     Onion         98.04            241\n",
            "93    Carrot         83.56             60\n",
            "97    Tomato         95.20            257\n"
          ]
        }
      ]
    },
    {
      "cell_type": "code",
      "source": [
        "print(\"Average Price per Kg for each Vegetable\")\n",
        "avg_price_per_vegetable=df.groupby('Vegetable')['Price_per_kg'].mean()\n",
        "print(avg_price_per_vegetable)"
      ],
      "metadata": {
        "colab": {
          "base_uri": "https://localhost:8080/"
        },
        "id": "ijxlRjuB_cEb",
        "outputId": "733ac03e-df29-4d42-921e-3f28ec631a82"
      },
      "execution_count": 46,
      "outputs": [
        {
          "output_type": "stream",
          "name": "stdout",
          "text": [
            "Average Price per Kg for each Vegetable\n",
            "Vegetable\n",
            "Broccoli    43.800000\n",
            "Cabbage     72.053333\n",
            "Capsicum    49.428333\n",
            "Carrot      60.231429\n",
            "Lettuce     68.483636\n",
            "Onion       61.905000\n",
            "Peas        58.326667\n",
            "Potato      54.922857\n",
            "Spinach     57.791667\n",
            "Tomato      62.200833\n",
            "Name: Price_per_kg, dtype: float64\n"
          ]
        }
      ]
    },
    {
      "cell_type": "code",
      "source": [
        "print(\"Print All Data in DataSet\")\n",
        "print(df)"
      ],
      "metadata": {
        "colab": {
          "base_uri": "https://localhost:8080/"
        },
        "id": "IzRmmJU0AuLt",
        "outputId": "07de398b-561e-4f3c-d673-fdd996766e7e"
      },
      "execution_count": 47,
      "outputs": [
        {
          "output_type": "stream",
          "name": "stdout",
          "text": [
            "Print All Data in DataSet\n",
            "   Vegetable  Price_per_kg  Quantity_sold\n",
            "0    Cabbage         72.20             67\n",
            "1       Peas         72.92            157\n",
            "2     Potato         85.75            227\n",
            "3    Spinach         30.14             53\n",
            "4      Onion         79.58             75\n",
            "5     Carrot         90.08            159\n",
            "6      Onion         47.11             66\n",
            "7    Lettuce         73.11            137\n",
            "8      Onion         36.63             80\n",
            "9    Cabbage         35.31            297\n",
            "10     Onion         31.00            190\n",
            "11     Onion         72.54            257\n",
            "12   Lettuce         52.41             59\n",
            "13    Tomato         59.55            145\n",
            "14    Tomato         97.41            293\n",
            "15    Carrot         95.94            128\n",
            "16    Tomato         78.82            241\n",
            "17  Broccoli         26.28            108\n",
            "18  Capsicum         89.92            251\n",
            "19     Onion         87.85            276\n",
            "20    Carrot         82.59            285\n",
            "21  Capsicum         21.34            208\n",
            "22     Onion         94.41            278\n",
            "23  Capsicum         36.05            201\n",
            "24     Onion         76.41            263\n",
            "25    Tomato         91.94            177\n",
            "26     Onion         40.94            138\n",
            "27      Peas         56.09            182\n",
            "28   Spinach         93.01            298\n",
            "29  Broccoli         46.45            195\n",
            "30  Broccoli         71.57             65\n",
            "31   Cabbage         72.30            158\n",
            "32    Tomato         47.39            155\n",
            "33    Carrot         26.94            182\n",
            "34    Tomato         21.65            182\n",
            "35   Spinach         54.78            127\n",
            "36     Onion         38.02            186\n",
            "37    Carrot         27.59            256\n",
            "38  Broccoli         55.11            149\n",
            "39      Peas         39.98             68\n",
            "40    Tomato         43.51            158\n",
            "41   Lettuce         77.72            154\n",
            "42    Carrot         37.83            157\n",
            "43  Broccoli         69.25            167\n",
            "44     Onion         57.89             54\n",
            "45    Carrot         39.08            179\n",
            "46     Onion         70.50            294\n",
            "47    Potato         34.61            129\n",
            "48      Peas         44.44            259\n",
            "49    Tomato         34.89            177\n",
            "50    Carrot         46.54            162\n",
            "51    Potato         23.71            219\n",
            "52     Onion         65.01             86\n",
            "53  Capsicum         74.34             93\n",
            "54    Carrot         35.40            156\n",
            "55     Onion         53.66            209\n",
            "56   Cabbage         94.94            227\n",
            "57    Carrot         98.60             56\n",
            "58   Lettuce         89.52            243\n",
            "59     Onion         40.30            240\n",
            "60     Onion         50.41            140\n",
            "61    Potato         97.72            142\n",
            "62      Peas         95.54            184\n",
            "63   Lettuce         32.11            199\n",
            "64    Carrot         77.41            212\n",
            "65  Broccoli         20.51            272\n",
            "66   Spinach         82.23            184\n",
            "67   Lettuce         64.30             99\n",
            "68    Tomato         46.66             72\n",
            "69   Cabbage         57.79             53\n",
            "70   Cabbage         99.78            262\n",
            "71      Peas         32.13            239\n",
            "72   Spinach         40.51            291\n",
            "73    Carrot         31.10            104\n",
            "74  Broccoli         34.17            191\n",
            "75   Lettuce         84.88             52\n",
            "76   Lettuce         79.47            126\n",
            "77  Broccoli         41.38            211\n",
            "78   Lettuce         77.05             78\n",
            "79   Lettuce         62.57            142\n",
            "80    Potato         39.52            253\n",
            "81   Lettuce         60.18            187\n",
            "82  Capsicum         23.20            144\n",
            "83      Peas         36.25            196\n",
            "84    Potato         33.16             80\n",
            "85     Onion         73.99            131\n",
            "86      Peas         61.07            177\n",
            "87      Peas         86.52            214\n",
            "88     Onion         98.04            241\n",
            "89    Tomato         50.23            262\n",
            "90  Broccoli         21.08             88\n",
            "91  Capsicum         51.72             93\n",
            "92    Carrot         70.58             73\n",
            "93    Carrot         83.56             60\n",
            "94  Broccoli         58.39            235\n",
            "95    Tomato         79.16             64\n",
            "96  Broccoli         37.61            205\n",
            "97    Tomato         95.20            257\n",
            "98    Potato         69.99            177\n",
            "99   Spinach         46.08            265\n"
          ]
        }
      ]
    },
    {
      "cell_type": "code",
      "source": [
        "print(\"Display Data of 6-10 Rows in DataSet\")\n",
        "print(df[6:11])"
      ],
      "metadata": {
        "colab": {
          "base_uri": "https://localhost:8080/"
        },
        "id": "TDMkZD8wBRVQ",
        "outputId": "1c51c44f-7e0f-4b8f-bd68-4a3b53c20d7c"
      },
      "execution_count": 41,
      "outputs": [
        {
          "output_type": "stream",
          "name": "stdout",
          "text": [
            "Display Data of 6-10 Rows in DataSet\n",
            "   Vegetable  Price_per_kg  Quantity_sold\n",
            "6      Onion         47.11             66\n",
            "7    Lettuce         73.11            137\n",
            "8      Onion         36.63             80\n",
            "9    Cabbage         35.31            297\n",
            "10     Onion         31.00            190\n"
          ]
        }
      ]
    },
    {
      "cell_type": "code",
      "source": [
        "import matplotlib.pyplot as plt\n",
        "avg_price_per_vegetable.plot(kind='bar', title='Average Price per kg of Vegetables')\n",
        "plt.ylabel('Price (Rs)')\n",
        "plt.xlabel('Vegetable')\n",
        "plt.show()\n"
      ],
      "metadata": {
        "colab": {
          "base_uri": "https://localhost:8080/",
          "height": 526
        },
        "id": "PrtS2vm3CXKa",
        "outputId": "0ace1e99-750a-4fc6-87ba-d7006d9788a1"
      },
      "execution_count": 49,
      "outputs": [
        {
          "output_type": "display_data",
          "data": {
            "text/plain": [
              "<Figure size 640x480 with 1 Axes>"
            ],
            "image/png": "[encoded data removed]"
          },
          "metadata": {}
        }
      ]
    },
    {
      "cell_type": "code",
      "source": [
        "import matplotlib.pyplot as plt\n",
        "avg_price_per_vegetable.plot(kind='pie', title='Average Price per kg of Vegetables', autopct='%1.1f%%')\n",
        "plt.show()\n"
      ],
      "metadata": {
        "colab": {
          "base_uri": "https://localhost:8080/",
          "height": 428
        },
        "id": "_M_51r4ELTJp",
        "outputId": "486816c1-8236-434f-f770-89b21fecc96b"
      },
      "execution_count": 57,
      "outputs": [
        {
          "output_type": "display_data",
          "data": {
            "text/plain": [
              "<Figure size 640x480 with 1 Axes>"
            ],
            "image/png": "[encoded data removed]"
          },
          "metadata": {}
        }
      ]
    },
    {
      "cell_type": "code",
      "source": [],
      "metadata": {
        "id": "OczLy3EOLGLw"
      },
      "execution_count": null,
      "outputs": []
    }
  ]
}